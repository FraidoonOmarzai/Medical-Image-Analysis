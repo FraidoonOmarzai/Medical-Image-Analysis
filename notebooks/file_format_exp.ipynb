{
 "cells": [
  {
   "cell_type": "code",
   "execution_count": 2,
   "metadata": {},
   "outputs": [
    {
     "data": {
      "text/plain": [
       "'c:\\\\Users\\\\44787\\\\Desktop\\\\Medical-Image-Analysis\\\\notebooks'"
      ]
     },
     "execution_count": 2,
     "metadata": {},
     "output_type": "execute_result"
    }
   ],
   "source": [
    "%pwd"
   ]
  },
  {
   "cell_type": "code",
   "execution_count": 3,
   "metadata": {},
   "outputs": [
    {
     "data": {
      "text/plain": [
       "'c:\\\\Users\\\\44787\\\\Desktop\\\\Medical-Image-Analysis'"
      ]
     },
     "execution_count": 3,
     "metadata": {},
     "output_type": "execute_result"
    }
   ],
   "source": [
    "import os\n",
    "\n",
    "os.chdir(\"../\")\n",
    "%pwd"
   ]
  },
  {
   "cell_type": "code",
   "execution_count": 6,
   "metadata": {},
   "outputs": [],
   "source": [
    "from PIL import Image\n",
    "import os \n",
    "from pathlib import Path"
   ]
  },
  {
   "cell_type": "code",
   "execution_count": 23,
   "metadata": {},
   "outputs": [],
   "source": [
    "def check_image_format(directory, valid_formats=None):\n",
    "    \"\"\"\n",
    "    Check the format of image files in a directory.\n",
    "\n",
    "    Parameters:\n",
    "    - directory: Path to the directory containing image files.\n",
    "    - valid_formats: A list of valid image formats (e.g., ['JPEG', 'PNG']). If None, defaults to common formats.\n",
    "\n",
    "    Returns:\n",
    "    - A list of files with invalid formats.\n",
    "    \"\"\"\n",
    "    if valid_formats is None:\n",
    "        valid_formats = ['JPEG']\n",
    "\n",
    "    invalid_files = []\n",
    "\n",
    "    for filename in os.listdir(directory):\n",
    "        filepath = os.path.join(directory, filename)\n",
    "        if os.path.isfile(filepath): # used to check if a given path is a file, to ensure that you're only processing files and not directories\n",
    "            try:\n",
    "                with Image.open(filepath) as img:\n",
    "                    if img.format not in valid_formats:\n",
    "                        invalid_files.append(filename)\n",
    "            except (IOError, SyntaxError) as e:\n",
    "                invalid_files.append(filename)\n",
    "\n",
    "    return invalid_files"
   ]
  },
  {
   "cell_type": "code",
   "execution_count": 26,
   "metadata": {},
   "outputs": [],
   "source": [
    "directory_path = Path(\"artifacts\\DataIngestion\\images\")\n",
    "invalid_images = check_image_format(directory_path)\n",
    "\n",
    "\n",
    "os.makedirs(Path(\"artifacts\\DataValidation\"), exist_ok=True)\n",
    "\n",
    "\n",
    "\n",
    "if invalid_images:\n",
    "    with open(Path(\"artifacts\\DataValidation\\img_status.txt\"), 'w') as f:\n",
    "                        f.write(f\"Invalid image files: {invalid_images}\")\n",
    "else:\n",
    "    with open(Path(\"artifacts\\DataValidation\\img_status.txt\"), 'w') as f:\n",
    "                        f.write(\"All images are in valid formats.\")"
   ]
  }
 ],
 "metadata": {
  "kernelspec": {
   "display_name": "medimg",
   "language": "python",
   "name": "python3"
  },
  "language_info": {
   "codemirror_mode": {
    "name": "ipython",
    "version": 3
   },
   "file_extension": ".py",
   "mimetype": "text/x-python",
   "name": "python",
   "nbconvert_exporter": "python",
   "pygments_lexer": "ipython3",
   "version": "3.9.19"
  }
 },
 "nbformat": 4,
 "nbformat_minor": 2
}
